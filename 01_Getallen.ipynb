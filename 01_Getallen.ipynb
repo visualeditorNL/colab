{
  "nbformat": 4,
  "nbformat_minor": 0,
  "metadata": {
    "colab": {
      "name": "01-Getallen.ipynb",
      "version": "0.3.2",
      "provenance": [],
      "include_colab_link": true
    },
    "kernelspec": {
      "display_name": "Python 3",
      "language": "python",
      "name": "python3"
    }
  },
  "cells": [
    {
      "cell_type": "markdown",
      "metadata": {
        "id": "view-in-github",
        "colab_type": "text"
      },
      "source": [
        "<a href=\"https://colab.research.google.com/github/visualeditorNL/colab/blob/master/01_Getallen.ipynb\" target=\"_parent\"><img src=\"https://colab.research.google.com/assets/colab-badge.svg\" alt=\"Open In Colab\"/></a>"
      ]
    },
    {
      "metadata": {
        "id": "rVJ-FYBcJeKN",
        "colab_type": "text"
      },
      "cell_type": "markdown",
      "source": [
        "# Getallen in Python!\n",
        "\n",
        "Vandaag leren we over getallen in Python en hoe ze te gebruiken.\n",
        "\n",
        "De leerdoelen van vandaag.\n",
        "\n",
        "    1.) Ik weet het verschil tussen float en integer \n",
        "    2.) Ik kan rekenen met Python\n",
        "    3.) Ik weet wat variabelen zijn en kan deze aanmaken"
      ]
    },
    {
      "metadata": {
        "id": "nVF3Ll9QJeKO",
        "colab_type": "text"
      },
      "cell_type": "markdown",
      "source": [
        "## Soorten getallen\n",
        "\n",
        "Python heeft verschillende getal \"types\". We zullen nu ons beperken tot integers en floats. \n",
        "\n",
        "Integers zijn hele getallen, positief of negatief. Bijvoorbeeld: 2 en -2 zijn voorbeelden van integers.\n",
        "\n",
        "Floating point getallen in Python zijn herkenbaar aan de decimalen die er in voorkomen. In Python wordt de Engelse notatie gebruikt dus staat er een punt in plaats van een komma. Ze kunnen ook een exponentieel bevatten (e) om het getal te definieren. Bijvoorbeeld 2.0 en -2.1 zijn voorbeelden van floating point getallen. 4E2 (4 keer 10 tot de macht 2) is ook een voorbeeld van een float in Python.\n",
        "\n",
        "We zullen ons dit thema voornamelijk bezighouden met integers en floats als we getallen gebruiken. \n",
        "\n",
        "Hier is nog een keer een tabel met de twee belangrijkste typen getallen waar we mee werken met wat voorbeelden: "
      ]
    },
    {
      "metadata": {
        "id": "UUEKE-41JeKQ",
        "colab_type": "text"
      },
      "cell_type": "markdown",
      "source": [
        "<table>\n",
        "<tr>\n",
        "    <th>Voorbeelden</th> \n",
        "    <th>Getal \"Type\"</th>\n",
        "</tr>\n",
        "\n",
        "<tr>\n",
        "    <td>1, 2, -5, 1000</td>\n",
        "    <td>Integers</td> \n",
        "</tr>\n",
        "\n",
        "<tr>\n",
        "    <td>1.2, -0.5, 2e2, 3E2</td> \n",
        "    <td>Floating-point getallen of floats</td> \n",
        "</tr>\n",
        " </table>"
      ]
    },
    {
      "metadata": {
        "id": "Z4QKaYJnJeKQ",
        "colab_type": "text"
      },
      "cell_type": "markdown",
      "source": [
        " \n",
        " \n",
        "Laten we nu beginnen met wat basis rekenvaardigheden"
      ]
    },
    {
      "metadata": {
        "id": "qn8g21KrJeKR",
        "colab_type": "text"
      },
      "cell_type": "markdown",
      "source": [
        "### Eenvoudig rekenen"
      ]
    },
    {
      "metadata": {
        "id": "4wcViR9yJeKS",
        "colab_type": "code",
        "colab": {},
        "outputId": "7802ff91-e6b7-42ca-b2c5-194e026d5ba6"
      },
      "cell_type": "code",
      "source": [
        "# Optellen\n",
        "2+1"
      ],
      "execution_count": 0,
      "outputs": [
        {
          "output_type": "execute_result",
          "data": {
            "text/plain": [
              "3"
            ]
          },
          "metadata": {
            "tags": []
          },
          "execution_count": 1
        }
      ]
    },
    {
      "metadata": {
        "id": "3RUK-da8JeKW",
        "colab_type": "code",
        "colab": {},
        "outputId": "4f44691d-66c9-48aa-abde-51999c84c082"
      },
      "cell_type": "code",
      "source": [
        "# Aftrekken\n",
        "2-1"
      ],
      "execution_count": 0,
      "outputs": [
        {
          "output_type": "execute_result",
          "data": {
            "text/plain": [
              "1"
            ]
          },
          "metadata": {
            "tags": []
          },
          "execution_count": 2
        }
      ]
    },
    {
      "metadata": {
        "id": "3WQiFZWJJeKa",
        "colab_type": "code",
        "colab": {},
        "outputId": "9e16a0e7-6f5d-40aa-b4e9-505855e57a9e"
      },
      "cell_type": "code",
      "source": [
        "# Vermenigvuldigen\n",
        "2*2"
      ],
      "execution_count": 0,
      "outputs": [
        {
          "output_type": "execute_result",
          "data": {
            "text/plain": [
              "4"
            ]
          },
          "metadata": {
            "tags": []
          },
          "execution_count": 3
        }
      ]
    },
    {
      "metadata": {
        "id": "u_9Vub8YJeKc",
        "colab_type": "code",
        "colab": {},
        "outputId": "c8985c02-f3d0-4dfe-c28e-1a18d59624dd"
      },
      "cell_type": "code",
      "source": [
        "# Delen\n",
        "3/2"
      ],
      "execution_count": 0,
      "outputs": [
        {
          "output_type": "execute_result",
          "data": {
            "text/plain": [
              "1.5"
            ]
          },
          "metadata": {
            "tags": []
          },
          "execution_count": 4
        }
      ]
    },
    {
      "metadata": {
        "id": "Y1ObYixcJeKj",
        "colab_type": "text"
      },
      "cell_type": "markdown",
      "source": [
        "**En wat als we het 'rest' getal willen, het getal dat overblijft na het delen?**"
      ]
    },
    {
      "metadata": {
        "id": "m8ey3IINJeKk",
        "colab_type": "code",
        "colab": {},
        "outputId": "ab89cb12-c788-49a0-d520-690a3df11d86"
      },
      "cell_type": "code",
      "source": [
        "# Modulo\n",
        "7%4"
      ],
      "execution_count": 0,
      "outputs": [
        {
          "output_type": "execute_result",
          "data": {
            "text/plain": [
              "3"
            ]
          },
          "metadata": {
            "tags": []
          },
          "execution_count": 6
        }
      ]
    },
    {
      "metadata": {
        "id": "mrewxuw7JeKp",
        "colab_type": "text"
      },
      "cell_type": "markdown",
      "source": [
        "4 gaat 1 keer in de 7, met een restgetal van 3. De % operator geeft het restgetal na de deling. Dit wordt bij het programmeren vrij vaak gebruikt om bijvoorbeeld even getallen te vinden als uit .. % 2 als antwoord 0 komt dan is het getal .. deelbaar door 2."
      ]
    },
    {
      "metadata": {
        "id": "ancNfWtNJeKr",
        "colab_type": "text"
      },
      "cell_type": "markdown",
      "source": [
        "### Verder met rekenen"
      ]
    },
    {
      "metadata": {
        "id": "34F0zejXJeKs",
        "colab_type": "code",
        "colab": {},
        "outputId": "e7dbd810-b935-4ab2-99f2-e98799d485dd"
      },
      "cell_type": "code",
      "source": [
        "# Machten\n",
        "2**3"
      ],
      "execution_count": 0,
      "outputs": [
        {
          "output_type": "execute_result",
          "data": {
            "text/plain": [
              "8"
            ]
          },
          "metadata": {
            "tags": []
          },
          "execution_count": 7
        }
      ]
    },
    {
      "metadata": {
        "id": "S9qIW9bwJeKu",
        "colab_type": "code",
        "colab": {},
        "outputId": "525275ca-c978-4afd-955e-960225b215db"
      },
      "cell_type": "code",
      "source": [
        "# En worteltrekken op dezelfde manier\n",
        "64**0.5"
      ],
      "execution_count": 0,
      "outputs": [
        {
          "output_type": "execute_result",
          "data": {
            "text/plain": [
              "8.0"
            ]
          },
          "metadata": {
            "tags": []
          },
          "execution_count": 1
        }
      ]
    },
    {
      "metadata": {
        "id": "XvkWpy_gJeKx",
        "colab_type": "code",
        "colab": {},
        "outputId": "638501da-c018-43c5-a91c-ef5a14fadb39"
      },
      "cell_type": "code",
      "source": [
        "# De volgorde van berekeningen in Python\n",
        "2 + 10 * 10 + 3"
      ],
      "execution_count": 0,
      "outputs": [
        {
          "output_type": "execute_result",
          "data": {
            "text/plain": [
              "105"
            ]
          },
          "metadata": {
            "tags": []
          },
          "execution_count": 9
        }
      ]
    },
    {
      "metadata": {
        "id": "KGoBdFeOJeK0",
        "colab_type": "code",
        "colab": {},
        "outputId": "2530c194-0da0-4168-bc4f-310d86179b0a"
      },
      "cell_type": "code",
      "source": [
        "# Je kan ook hier net als in de wiskunde haakjes gebruiken om de volgorde van berekenen aan te passen\n",
        "(2+10) * (10+3)"
      ],
      "execution_count": 0,
      "outputs": [
        {
          "output_type": "execute_result",
          "data": {
            "text/plain": [
              "156"
            ]
          },
          "metadata": {
            "tags": []
          },
          "execution_count": 10
        }
      ]
    },
    {
      "metadata": {
        "id": "eHzamdW4JeK8",
        "colab_type": "text"
      },
      "cell_type": "markdown",
      "source": [
        "## Variabelen aanmaken\n",
        "\n",
        "Nu we weten hoe je getallen moet gebruiken in Python en we Python kunnen gebruiken als rekenmachine is het tijd om te leren variabelen aan te maken. \n",
        "\n",
        "Hiervoor gebruiken we een enkel = teken. Daarmee kunnen we een naam aan een waarde koppelen. Laten een paar voorbeelden nemen: "
      ]
    },
    {
      "metadata": {
        "id": "wLr54M63JeK9",
        "colab_type": "code",
        "colab": {}
      },
      "cell_type": "code",
      "source": [
        "# We maken een object met de naam \"a\" en koppelen daar het getal 5 aan\n",
        "a = 5"
      ],
      "execution_count": 0,
      "outputs": []
    },
    {
      "metadata": {
        "id": "qY8vO26-JeLB",
        "colab_type": "text"
      },
      "cell_type": "markdown",
      "source": [
        "Now if I call *a* in my Python script, Python will treat it as the number 5."
      ]
    },
    {
      "metadata": {
        "id": "fllR8EySJeLB",
        "colab_type": "code",
        "colab": {},
        "outputId": "2e748e7d-d226-4167-abc4-0fe38aec7842"
      },
      "cell_type": "code",
      "source": [
        "# Adding the objects\n",
        "a+a"
      ],
      "execution_count": 0,
      "outputs": [
        {
          "output_type": "execute_result",
          "data": {
            "text/plain": [
              "10"
            ]
          },
          "metadata": {
            "tags": []
          },
          "execution_count": 12
        }
      ]
    },
    {
      "metadata": {
        "id": "g-iehY3JJeLF",
        "colab_type": "text"
      },
      "cell_type": "markdown",
      "source": [
        "What happens on reassignment? Will Python let us write it over?"
      ]
    },
    {
      "metadata": {
        "id": "XptGaXieJeLG",
        "colab_type": "code",
        "colab": {}
      },
      "cell_type": "code",
      "source": [
        "# Reassignment\n",
        "a = 10"
      ],
      "execution_count": 0,
      "outputs": []
    },
    {
      "metadata": {
        "id": "20t2moNqJeLK",
        "colab_type": "code",
        "colab": {},
        "outputId": "c3b39323-4d5e-47f3-a137-681dfa2db161"
      },
      "cell_type": "code",
      "source": [
        "# Check\n",
        "a"
      ],
      "execution_count": 0,
      "outputs": [
        {
          "output_type": "execute_result",
          "data": {
            "text/plain": [
              "10"
            ]
          },
          "metadata": {
            "tags": []
          },
          "execution_count": 14
        }
      ]
    },
    {
      "metadata": {
        "id": "5ytIdo9wJeLM",
        "colab_type": "text"
      },
      "cell_type": "markdown",
      "source": [
        "Yes! Python allows you to write over assigned variable names. We can also use the variables themselves when doing the reassignment. Here is an example of what I mean:"
      ]
    },
    {
      "metadata": {
        "id": "HnTP3LEsJeLP",
        "colab_type": "code",
        "colab": {},
        "outputId": "e6b80c76-f125-40d6-e3ce-98dddef3fba5"
      },
      "cell_type": "code",
      "source": [
        "# Check\n",
        "a"
      ],
      "execution_count": 0,
      "outputs": [
        {
          "output_type": "execute_result",
          "data": {
            "text/plain": [
              "10"
            ]
          },
          "metadata": {
            "tags": []
          },
          "execution_count": 15
        }
      ]
    },
    {
      "metadata": {
        "id": "QQhXndQpJeLT",
        "colab_type": "code",
        "colab": {}
      },
      "cell_type": "code",
      "source": [
        "# Use A to redefine A\n",
        "a = a + a"
      ],
      "execution_count": 0,
      "outputs": []
    },
    {
      "metadata": {
        "id": "SEMb9m8mJeLW",
        "colab_type": "code",
        "colab": {},
        "outputId": "49c04cde-a18d-419c-f9c5-007940b7c013"
      },
      "cell_type": "code",
      "source": [
        "# Check \n",
        "a"
      ],
      "execution_count": 0,
      "outputs": [
        {
          "output_type": "execute_result",
          "data": {
            "text/plain": [
              "20"
            ]
          },
          "metadata": {
            "tags": []
          },
          "execution_count": 17
        }
      ]
    },
    {
      "metadata": {
        "id": "V8vBeAY1JeLY",
        "colab_type": "text"
      },
      "cell_type": "markdown",
      "source": [
        "The names you use when creating these labels need to follow a few rules:\n",
        "\n",
        "    1. Names can not start with a number.\n",
        "    2. There can be no spaces in the name, use _ instead.\n",
        "    3. Can't use any of these symbols :'\",<>/?|\\()!@#$%^&*~-+\n",
        "    4. It's considered best practice (PEP8) that names are lowercase.\n",
        "    5. Avoid using the characters 'l' (lowercase letter el), 'O' (uppercase letter oh), \n",
        "       or 'I' (uppercase letter eye) as single character variable names.\n",
        "    6. Avoid using words that have special meaning in Python like \"list\" and \"str\"\n",
        "\n",
        "\n",
        "Using variable names can be a very useful way to keep track of different variables in Python. For example:"
      ]
    },
    {
      "metadata": {
        "id": "XIVbYj4KJeLY",
        "colab_type": "code",
        "colab": {}
      },
      "cell_type": "code",
      "source": [
        "# Use object names to keep better track of what's going on in your code!\n",
        "my_income = 100\n",
        "\n",
        "tax_rate = 0.1\n",
        "\n",
        "my_taxes = my_income*tax_rate"
      ],
      "execution_count": 0,
      "outputs": []
    },
    {
      "metadata": {
        "id": "oXnzgLqRJeLa",
        "colab_type": "code",
        "colab": {},
        "outputId": "bfc2fbf7-6ded-4222-a270-6ada20805630"
      },
      "cell_type": "code",
      "source": [
        "# Show my taxes!\n",
        "my_taxes"
      ],
      "execution_count": 0,
      "outputs": [
        {
          "output_type": "execute_result",
          "data": {
            "text/plain": [
              "10.0"
            ]
          },
          "metadata": {
            "tags": []
          },
          "execution_count": 19
        }
      ]
    },
    {
      "metadata": {
        "id": "YtYyOns0JeLd",
        "colab_type": "text"
      },
      "cell_type": "markdown",
      "source": [
        "So what have we learned? We learned some of the basics of numbers in Python. We also learned how to do arithmetic and use Python as a basic calculator. We then wrapped it up with learning about Variable Assignment in Python.\n",
        "\n",
        "Up next we'll learn about Strings!"
      ]
    }
  ]
}